{
  "cells": [
    {
      "cell_type": "markdown",
      "source": [
        "## Импортирование необходимых библиотек"
      ],
      "metadata": {
        "id": "GcCIB5eTpopM"
      }
    },
    {
      "cell_type": "code",
      "execution_count": 1,
      "metadata": {
        "colab": {
          "base_uri": "https://localhost:8080/"
        },
        "id": "gTCDU6Y7YTrr",
        "outputId": "65e0373a-0d6f-433b-991a-a4684d0fcf24"
      },
      "outputs": [
        {
          "output_type": "stream",
          "name": "stdout",
          "text": [
            "Mounted at /content/drive\n"
          ]
        }
      ],
      "source": [
        "import numpy as np\n",
        "import pandas as pd \n",
        "import matplotlib.pyplot as plt\n",
        "import seaborn as sns\n",
        "import scipy.stats as stats\n",
        "from google.colab import drive\n",
        "drive.mount('/content/drive')"
      ]
    },
    {
      "cell_type": "code",
      "execution_count": 79,
      "metadata": {
        "scrolled": true,
        "id": "WEdZXVC1YTrt",
        "colab": {
          "base_uri": "https://localhost:8080/",
          "height": 206
        },
        "outputId": "1d0dd04c-6d6c-48ef-c6ae-b9e81a5f68a2"
      },
      "outputs": [
        {
          "output_type": "execute_result",
          "data": {
            "text/plain": [
              "  calendar_date  avg_temperature  high_temperature  low_temperature  \\\n",
              "0    2016-01-01              8.1              10.9              4.1   \n",
              "1    2016-01-02              6.9              12.5              0.7   \n",
              "2    2016-01-03              8.8              13.6              5.5   \n",
              "3    2016-01-04             10.7              16.0              4.6   \n",
              "4    2016-01-05             11.1              13.9              8.7   \n",
              "\n",
              "   precipitation  hours_sunlight  solar_radiation  deepest_snowfall  \\\n",
              "0            NaN             8.8              NaN               NaN   \n",
              "1            NaN             8.2              NaN               NaN   \n",
              "2            NaN             3.3              NaN               NaN   \n",
              "3            NaN             8.9              NaN               NaN   \n",
              "4            0.0             4.0              NaN               NaN   \n",
              "\n",
              "   total_snowfall  avg_wind_speed  avg_vapor_pressure  avg_local_pressure  \\\n",
              "0             NaN             4.6                 6.1              1027.1   \n",
              "1             NaN             2.0                 7.7              1024.4   \n",
              "2             NaN             1.4                 9.6              1018.4   \n",
              "3             NaN             2.9                 9.8              1016.4   \n",
              "4             NaN             3.9                 9.0              1018.8   \n",
              "\n",
              "   avg_humidity  avg_sea_pressure  cloud_cover  \n",
              "0          58.0            1028.1          NaN  \n",
              "1          78.0            1025.3          NaN  \n",
              "2          86.0            1019.4          NaN  \n",
              "3          77.0            1017.3          NaN  \n",
              "4          68.0            1019.7          NaN  "
            ],
            "text/html": [
              "\n",
              "  <div id=\"df-80a88219-fa3b-4249-91f1-877e49ffc0fd\">\n",
              "    <div class=\"colab-df-container\">\n",
              "      <div>\n",
              "<style scoped>\n",
              "    .dataframe tbody tr th:only-of-type {\n",
              "        vertical-align: middle;\n",
              "    }\n",
              "\n",
              "    .dataframe tbody tr th {\n",
              "        vertical-align: top;\n",
              "    }\n",
              "\n",
              "    .dataframe thead th {\n",
              "        text-align: right;\n",
              "    }\n",
              "</style>\n",
              "<table border=\"1\" class=\"dataframe\">\n",
              "  <thead>\n",
              "    <tr style=\"text-align: right;\">\n",
              "      <th></th>\n",
              "      <th>calendar_date</th>\n",
              "      <th>avg_temperature</th>\n",
              "      <th>high_temperature</th>\n",
              "      <th>low_temperature</th>\n",
              "      <th>precipitation</th>\n",
              "      <th>hours_sunlight</th>\n",
              "      <th>solar_radiation</th>\n",
              "      <th>deepest_snowfall</th>\n",
              "      <th>total_snowfall</th>\n",
              "      <th>avg_wind_speed</th>\n",
              "      <th>avg_vapor_pressure</th>\n",
              "      <th>avg_local_pressure</th>\n",
              "      <th>avg_humidity</th>\n",
              "      <th>avg_sea_pressure</th>\n",
              "      <th>cloud_cover</th>\n",
              "    </tr>\n",
              "  </thead>\n",
              "  <tbody>\n",
              "    <tr>\n",
              "      <th>0</th>\n",
              "      <td>2016-01-01</td>\n",
              "      <td>8.1</td>\n",
              "      <td>10.9</td>\n",
              "      <td>4.1</td>\n",
              "      <td>NaN</td>\n",
              "      <td>8.8</td>\n",
              "      <td>NaN</td>\n",
              "      <td>NaN</td>\n",
              "      <td>NaN</td>\n",
              "      <td>4.6</td>\n",
              "      <td>6.1</td>\n",
              "      <td>1027.1</td>\n",
              "      <td>58.0</td>\n",
              "      <td>1028.1</td>\n",
              "      <td>NaN</td>\n",
              "    </tr>\n",
              "    <tr>\n",
              "      <th>1</th>\n",
              "      <td>2016-01-02</td>\n",
              "      <td>6.9</td>\n",
              "      <td>12.5</td>\n",
              "      <td>0.7</td>\n",
              "      <td>NaN</td>\n",
              "      <td>8.2</td>\n",
              "      <td>NaN</td>\n",
              "      <td>NaN</td>\n",
              "      <td>NaN</td>\n",
              "      <td>2.0</td>\n",
              "      <td>7.7</td>\n",
              "      <td>1024.4</td>\n",
              "      <td>78.0</td>\n",
              "      <td>1025.3</td>\n",
              "      <td>NaN</td>\n",
              "    </tr>\n",
              "    <tr>\n",
              "      <th>2</th>\n",
              "      <td>2016-01-03</td>\n",
              "      <td>8.8</td>\n",
              "      <td>13.6</td>\n",
              "      <td>5.5</td>\n",
              "      <td>NaN</td>\n",
              "      <td>3.3</td>\n",
              "      <td>NaN</td>\n",
              "      <td>NaN</td>\n",
              "      <td>NaN</td>\n",
              "      <td>1.4</td>\n",
              "      <td>9.6</td>\n",
              "      <td>1018.4</td>\n",
              "      <td>86.0</td>\n",
              "      <td>1019.4</td>\n",
              "      <td>NaN</td>\n",
              "    </tr>\n",
              "    <tr>\n",
              "      <th>3</th>\n",
              "      <td>2016-01-04</td>\n",
              "      <td>10.7</td>\n",
              "      <td>16.0</td>\n",
              "      <td>4.6</td>\n",
              "      <td>NaN</td>\n",
              "      <td>8.9</td>\n",
              "      <td>NaN</td>\n",
              "      <td>NaN</td>\n",
              "      <td>NaN</td>\n",
              "      <td>2.9</td>\n",
              "      <td>9.8</td>\n",
              "      <td>1016.4</td>\n",
              "      <td>77.0</td>\n",
              "      <td>1017.3</td>\n",
              "      <td>NaN</td>\n",
              "    </tr>\n",
              "    <tr>\n",
              "      <th>4</th>\n",
              "      <td>2016-01-05</td>\n",
              "      <td>11.1</td>\n",
              "      <td>13.9</td>\n",
              "      <td>8.7</td>\n",
              "      <td>0.0</td>\n",
              "      <td>4.0</td>\n",
              "      <td>NaN</td>\n",
              "      <td>NaN</td>\n",
              "      <td>NaN</td>\n",
              "      <td>3.9</td>\n",
              "      <td>9.0</td>\n",
              "      <td>1018.8</td>\n",
              "      <td>68.0</td>\n",
              "      <td>1019.7</td>\n",
              "      <td>NaN</td>\n",
              "    </tr>\n",
              "  </tbody>\n",
              "</table>\n",
              "</div>\n",
              "      <button class=\"colab-df-convert\" onclick=\"convertToInteractive('df-80a88219-fa3b-4249-91f1-877e49ffc0fd')\"\n",
              "              title=\"Convert this dataframe to an interactive table.\"\n",
              "              style=\"display:none;\">\n",
              "        \n",
              "  <svg xmlns=\"http://www.w3.org/2000/svg\" height=\"24px\"viewBox=\"0 0 24 24\"\n",
              "       width=\"24px\">\n",
              "    <path d=\"M0 0h24v24H0V0z\" fill=\"none\"/>\n",
              "    <path d=\"M18.56 5.44l.94 2.06.94-2.06 2.06-.94-2.06-.94-.94-2.06-.94 2.06-2.06.94zm-11 1L8.5 8.5l.94-2.06 2.06-.94-2.06-.94L8.5 2.5l-.94 2.06-2.06.94zm10 10l.94 2.06.94-2.06 2.06-.94-2.06-.94-.94-2.06-.94 2.06-2.06.94z\"/><path d=\"M17.41 7.96l-1.37-1.37c-.4-.4-.92-.59-1.43-.59-.52 0-1.04.2-1.43.59L10.3 9.45l-7.72 7.72c-.78.78-.78 2.05 0 2.83L4 21.41c.39.39.9.59 1.41.59.51 0 1.02-.2 1.41-.59l7.78-7.78 2.81-2.81c.8-.78.8-2.07 0-2.86zM5.41 20L4 18.59l7.72-7.72 1.47 1.35L5.41 20z\"/>\n",
              "  </svg>\n",
              "      </button>\n",
              "      \n",
              "  <style>\n",
              "    .colab-df-container {\n",
              "      display:flex;\n",
              "      flex-wrap:wrap;\n",
              "      gap: 12px;\n",
              "    }\n",
              "\n",
              "    .colab-df-convert {\n",
              "      background-color: #E8F0FE;\n",
              "      border: none;\n",
              "      border-radius: 50%;\n",
              "      cursor: pointer;\n",
              "      display: none;\n",
              "      fill: #1967D2;\n",
              "      height: 32px;\n",
              "      padding: 0 0 0 0;\n",
              "      width: 32px;\n",
              "    }\n",
              "\n",
              "    .colab-df-convert:hover {\n",
              "      background-color: #E2EBFA;\n",
              "      box-shadow: 0px 1px 2px rgba(60, 64, 67, 0.3), 0px 1px 3px 1px rgba(60, 64, 67, 0.15);\n",
              "      fill: #174EA6;\n",
              "    }\n",
              "\n",
              "    [theme=dark] .colab-df-convert {\n",
              "      background-color: #3B4455;\n",
              "      fill: #D2E3FC;\n",
              "    }\n",
              "\n",
              "    [theme=dark] .colab-df-convert:hover {\n",
              "      background-color: #434B5C;\n",
              "      box-shadow: 0px 1px 3px 1px rgba(0, 0, 0, 0.15);\n",
              "      filter: drop-shadow(0px 1px 2px rgba(0, 0, 0, 0.3));\n",
              "      fill: #FFFFFF;\n",
              "    }\n",
              "  </style>\n",
              "\n",
              "      <script>\n",
              "        const buttonEl =\n",
              "          document.querySelector('#df-80a88219-fa3b-4249-91f1-877e49ffc0fd button.colab-df-convert');\n",
              "        buttonEl.style.display =\n",
              "          google.colab.kernel.accessAllowed ? 'block' : 'none';\n",
              "\n",
              "        async function convertToInteractive(key) {\n",
              "          const element = document.querySelector('#df-80a88219-fa3b-4249-91f1-877e49ffc0fd');\n",
              "          const dataTable =\n",
              "            await google.colab.kernel.invokeFunction('convertToInteractive',\n",
              "                                                     [key], {});\n",
              "          if (!dataTable) return;\n",
              "\n",
              "          const docLinkHtml = 'Like what you see? Visit the ' +\n",
              "            '<a target=\"_blank\" href=https://colab.research.google.com/notebooks/data_table.ipynb>data table notebook</a>'\n",
              "            + ' to learn more about interactive tables.';\n",
              "          element.innerHTML = '';\n",
              "          dataTable['output_type'] = 'display_data';\n",
              "          await google.colab.output.renderOutput(dataTable, element);\n",
              "          const docLink = document.createElement('div');\n",
              "          docLink.innerHTML = docLinkHtml;\n",
              "          element.appendChild(docLink);\n",
              "        }\n",
              "      </script>\n",
              "    </div>\n",
              "  </div>\n",
              "  "
            ]
          },
          "metadata": {},
          "execution_count": 79
        }
      ],
      "source": [
        "data = pd.read_csv(\"/content/drive/MyDrive/data/aichi.csv\")\n",
        "data.head()"
      ]
    },
    {
      "cell_type": "code",
      "execution_count": 3,
      "metadata": {
        "id": "2OJQ5dolYTrv"
      },
      "outputs": [],
      "source": [
        ""
      ]
    },
    {
      "cell_type": "code",
      "execution_count": 4,
      "metadata": {
        "colab": {
          "base_uri": "https://localhost:8080/"
        },
        "id": "7woNyS3dYTrv",
        "outputId": "2dc8922b-5968-45a3-c42c-e735341f28b8"
      },
      "outputs": [
        {
          "output_type": "execute_result",
          "data": {
            "text/plain": [
              "[('calendar_date', ('object', 0)),\n",
              " ('avg_temperature', ('float64', 0)),\n",
              " ('high_temperature', ('float64', 0)),\n",
              " ('low_temperature', ('float64', 0)),\n",
              " ('precipitation', ('float64', 238)),\n",
              " ('hours_sunlight', ('float64', 0)),\n",
              " ('solar_radiation', ('float64', 517)),\n",
              " ('deepest_snowfall', ('float64', 517)),\n",
              " ('total_snowfall', ('float64', 517)),\n",
              " ('avg_wind_speed', ('float64', 0)),\n",
              " ('avg_vapor_pressure', ('float64', 3)),\n",
              " ('avg_local_pressure', ('float64', 0)),\n",
              " ('avg_humidity', ('float64', 3)),\n",
              " ('avg_sea_pressure', ('float64', 0)),\n",
              " ('cloud_cover', ('float64', 517))]"
            ]
          },
          "metadata": {},
          "execution_count": 4
        }
      ],
      "source": [
        "data_features = list(zip(\n",
        "# признаки\n",
        "[i for i in data.columns],\n",
        "zip(\n",
        "    # типы колонок\n",
        "    [str(i) for i in data.dtypes],\n",
        "    # проверим есть ли пропущенные значения\n",
        "    [i for i in data.isnull().sum()]\n",
        ")))\n",
        "# Признаки с типом данных и количеством пропусков\n",
        "data_features"
      ]
    },
    {
      "cell_type": "markdown",
      "metadata": {
        "id": "ktG8ssBnYTrw"
      },
      "source": [
        "## Устранение пропусков"
      ]
    },
    {
      "cell_type": "code",
      "execution_count": 57,
      "metadata": {
        "colab": {
          "base_uri": "https://localhost:8080/"
        },
        "id": "SWEkVWpwYTrx",
        "outputId": "d150fdd2-27cf-4bb6-db39-c95831a723ea"
      },
      "outputs": [
        {
          "output_type": "execute_result",
          "data": {
            "text/plain": [
              "[('calendar_date', 0.0),\n",
              " ('avg_temperature', 0.0),\n",
              " ('high_temperature', 0.0),\n",
              " ('low_temperature', 0.0),\n",
              " ('precipitation', 0.46034816247582205),\n",
              " ('hours_sunlight', 0.0),\n",
              " ('solar_radiation', 1.0),\n",
              " ('deepest_snowfall', 1.0),\n",
              " ('total_snowfall', 1.0),\n",
              " ('avg_wind_speed', 0.0),\n",
              " ('avg_vapor_pressure', 0.005802707930367505),\n",
              " ('avg_local_pressure', 0.0),\n",
              " ('avg_humidity', 0.0),\n",
              " ('avg_sea_pressure', 0.0),\n",
              " ('cloud_cover', 1.0)]"
            ]
          },
          "metadata": {},
          "execution_count": 57
        }
      ],
      "source": [
        "# Доля (процент) пропусков\n",
        "[(c, data[c].isnull().mean()) for c in data.columns]"
      ]
    },
    {
      "cell_type": "code",
      "execution_count": 66,
      "metadata": {
        "colab": {
          "base_uri": "https://localhost:8080/"
        },
        "id": "J4Q-53ENYTry",
        "outputId": "d293c6ef-4f33-4fb2-e470-b90eaca9efff"
      },
      "outputs": [
        {
          "output_type": "execute_result",
          "data": {
            "text/plain": [
              "calendar_date         0\n",
              "avg_temperature       0\n",
              "high_temperature      0\n",
              "low_temperature       0\n",
              "hours_sunlight        0\n",
              "avg_wind_speed        0\n",
              "avg_local_pressure    0\n",
              "avg_humidity          0\n",
              "avg_sea_pressure      0\n",
              "dtype: int64"
            ]
          },
          "metadata": {},
          "execution_count": 66
        }
      ],
      "source": [
        "# Удаление колонок, содержащих пустые значения\n",
        "clear_df = data\n",
        "clear_df = clear_df.dropna(axis=1, how='any')\n",
        "clear_df.isnull().sum()"
      ]
    },
    {
      "cell_type": "code",
      "source": [
        "# Удаление строк\n",
        "clear_df = data.dropna(axis=0, how='any')\n",
        "clear_df.isnull().sum()"
      ],
      "metadata": {
        "colab": {
          "base_uri": "https://localhost:8080/"
        },
        "id": "bqX1QwAncdui",
        "outputId": "236e62c3-1ee9-46bd-9df0-a0074580868f"
      },
      "execution_count": 67,
      "outputs": [
        {
          "output_type": "execute_result",
          "data": {
            "text/plain": [
              "calendar_date         0.0\n",
              "avg_temperature       0.0\n",
              "high_temperature      0.0\n",
              "low_temperature       0.0\n",
              "precipitation         0.0\n",
              "hours_sunlight        0.0\n",
              "solar_radiation       0.0\n",
              "deepest_snowfall      0.0\n",
              "total_snowfall        0.0\n",
              "avg_wind_speed        0.0\n",
              "avg_vapor_pressure    0.0\n",
              "avg_local_pressure    0.0\n",
              "avg_humidity          0.0\n",
              "avg_sea_pressure      0.0\n",
              "cloud_cover           0.0\n",
              "dtype: float64"
            ]
          },
          "metadata": {},
          "execution_count": 67
        }
      ]
    },
    {
      "cell_type": "code",
      "execution_count": 80,
      "metadata": {
        "id": "i398iLtIYTrz"
      },
      "outputs": [],
      "source": [
        "# Заполним пропуски возраста средними значениями\n",
        "def impute_na(df, variable, value):\n",
        "    df[variable].fillna(value, inplace=True)\n",
        "hcols_with_na_temp = ['solar_radiation', 'deepest_snowfall', 'total_snowfall','precipitation','cloud_cover']\n",
        "data.drop(hcols_with_na_temp, inplace=True, axis=1)\n",
        "impute_na(data, 'avg_humidity', 0)\n",
        "impute_na(data, 'avg_vapor_pressure', data['avg_vapor_pressure'].mean())"
      ]
    },
    {
      "cell_type": "code",
      "execution_count": 81,
      "metadata": {
        "colab": {
          "base_uri": "https://localhost:8080/"
        },
        "id": "4JcHB7o8YTrz",
        "outputId": "c53b1375-c339-4d73-e69b-29aec5070850"
      },
      "outputs": [
        {
          "output_type": "execute_result",
          "data": {
            "text/plain": [
              "calendar_date         0\n",
              "avg_temperature       0\n",
              "high_temperature      0\n",
              "low_temperature       0\n",
              "hours_sunlight        0\n",
              "avg_wind_speed        0\n",
              "avg_vapor_pressure    0\n",
              "avg_local_pressure    0\n",
              "avg_humidity          0\n",
              "avg_sea_pressure      0\n",
              "dtype: int64"
            ]
          },
          "metadata": {},
          "execution_count": 81
        }
      ],
      "source": [
        "# Убедимся, что признак avg_humidity не имеет пустых значений\n",
        "data.isnull().sum()"
      ]
    },
    {
      "cell_type": "markdown",
      "metadata": {
        "id": "T-Lq8tTsYTr0"
      },
      "source": [
        "## Кодирование категориальных признаков"
      ]
    },
    {
      "cell_type": "code",
      "execution_count": 83,
      "metadata": {
        "id": "WCxHo0SPYTr1"
      },
      "outputs": [],
      "source": [
        "from sklearn.preprocessing import LabelEncoder"
      ]
    },
    {
      "cell_type": "code",
      "source": [
        "data = pd.read_csv(\"/content/drive/MyDrive/data/seattle-weather.csv\")\n",
        "data.head()"
      ],
      "metadata": {
        "colab": {
          "base_uri": "https://localhost:8080/",
          "height": 206
        },
        "id": "nj0qc8OQriJs",
        "outputId": "06db9e77-6a7b-4f2f-b3bd-731c4c8aae73"
      },
      "execution_count": 101,
      "outputs": [
        {
          "output_type": "execute_result",
          "data": {
            "text/plain": [
              "         date  precipitation  temp_max  temp_min  wind  weather\n",
              "0  2012-01-01            0.0      12.8       5.0   4.7  drizzle\n",
              "1  2012-01-02           10.9      10.6       2.8   4.5     rain\n",
              "2  2012-01-03            0.8      11.7       7.2   2.3     rain\n",
              "3  2012-01-04           20.3      12.2       5.6   4.7     rain\n",
              "4  2012-01-05            1.3       8.9       2.8   6.1     rain"
            ],
            "text/html": [
              "\n",
              "  <div id=\"df-eb2c248d-a1f5-4e99-b811-ea4d1bbe866c\">\n",
              "    <div class=\"colab-df-container\">\n",
              "      <div>\n",
              "<style scoped>\n",
              "    .dataframe tbody tr th:only-of-type {\n",
              "        vertical-align: middle;\n",
              "    }\n",
              "\n",
              "    .dataframe tbody tr th {\n",
              "        vertical-align: top;\n",
              "    }\n",
              "\n",
              "    .dataframe thead th {\n",
              "        text-align: right;\n",
              "    }\n",
              "</style>\n",
              "<table border=\"1\" class=\"dataframe\">\n",
              "  <thead>\n",
              "    <tr style=\"text-align: right;\">\n",
              "      <th></th>\n",
              "      <th>date</th>\n",
              "      <th>precipitation</th>\n",
              "      <th>temp_max</th>\n",
              "      <th>temp_min</th>\n",
              "      <th>wind</th>\n",
              "      <th>weather</th>\n",
              "    </tr>\n",
              "  </thead>\n",
              "  <tbody>\n",
              "    <tr>\n",
              "      <th>0</th>\n",
              "      <td>2012-01-01</td>\n",
              "      <td>0.0</td>\n",
              "      <td>12.8</td>\n",
              "      <td>5.0</td>\n",
              "      <td>4.7</td>\n",
              "      <td>drizzle</td>\n",
              "    </tr>\n",
              "    <tr>\n",
              "      <th>1</th>\n",
              "      <td>2012-01-02</td>\n",
              "      <td>10.9</td>\n",
              "      <td>10.6</td>\n",
              "      <td>2.8</td>\n",
              "      <td>4.5</td>\n",
              "      <td>rain</td>\n",
              "    </tr>\n",
              "    <tr>\n",
              "      <th>2</th>\n",
              "      <td>2012-01-03</td>\n",
              "      <td>0.8</td>\n",
              "      <td>11.7</td>\n",
              "      <td>7.2</td>\n",
              "      <td>2.3</td>\n",
              "      <td>rain</td>\n",
              "    </tr>\n",
              "    <tr>\n",
              "      <th>3</th>\n",
              "      <td>2012-01-04</td>\n",
              "      <td>20.3</td>\n",
              "      <td>12.2</td>\n",
              "      <td>5.6</td>\n",
              "      <td>4.7</td>\n",
              "      <td>rain</td>\n",
              "    </tr>\n",
              "    <tr>\n",
              "      <th>4</th>\n",
              "      <td>2012-01-05</td>\n",
              "      <td>1.3</td>\n",
              "      <td>8.9</td>\n",
              "      <td>2.8</td>\n",
              "      <td>6.1</td>\n",
              "      <td>rain</td>\n",
              "    </tr>\n",
              "  </tbody>\n",
              "</table>\n",
              "</div>\n",
              "      <button class=\"colab-df-convert\" onclick=\"convertToInteractive('df-eb2c248d-a1f5-4e99-b811-ea4d1bbe866c')\"\n",
              "              title=\"Convert this dataframe to an interactive table.\"\n",
              "              style=\"display:none;\">\n",
              "        \n",
              "  <svg xmlns=\"http://www.w3.org/2000/svg\" height=\"24px\"viewBox=\"0 0 24 24\"\n",
              "       width=\"24px\">\n",
              "    <path d=\"M0 0h24v24H0V0z\" fill=\"none\"/>\n",
              "    <path d=\"M18.56 5.44l.94 2.06.94-2.06 2.06-.94-2.06-.94-.94-2.06-.94 2.06-2.06.94zm-11 1L8.5 8.5l.94-2.06 2.06-.94-2.06-.94L8.5 2.5l-.94 2.06-2.06.94zm10 10l.94 2.06.94-2.06 2.06-.94-2.06-.94-.94-2.06-.94 2.06-2.06.94z\"/><path d=\"M17.41 7.96l-1.37-1.37c-.4-.4-.92-.59-1.43-.59-.52 0-1.04.2-1.43.59L10.3 9.45l-7.72 7.72c-.78.78-.78 2.05 0 2.83L4 21.41c.39.39.9.59 1.41.59.51 0 1.02-.2 1.41-.59l7.78-7.78 2.81-2.81c.8-.78.8-2.07 0-2.86zM5.41 20L4 18.59l7.72-7.72 1.47 1.35L5.41 20z\"/>\n",
              "  </svg>\n",
              "      </button>\n",
              "      \n",
              "  <style>\n",
              "    .colab-df-container {\n",
              "      display:flex;\n",
              "      flex-wrap:wrap;\n",
              "      gap: 12px;\n",
              "    }\n",
              "\n",
              "    .colab-df-convert {\n",
              "      background-color: #E8F0FE;\n",
              "      border: none;\n",
              "      border-radius: 50%;\n",
              "      cursor: pointer;\n",
              "      display: none;\n",
              "      fill: #1967D2;\n",
              "      height: 32px;\n",
              "      padding: 0 0 0 0;\n",
              "      width: 32px;\n",
              "    }\n",
              "\n",
              "    .colab-df-convert:hover {\n",
              "      background-color: #E2EBFA;\n",
              "      box-shadow: 0px 1px 2px rgba(60, 64, 67, 0.3), 0px 1px 3px 1px rgba(60, 64, 67, 0.15);\n",
              "      fill: #174EA6;\n",
              "    }\n",
              "\n",
              "    [theme=dark] .colab-df-convert {\n",
              "      background-color: #3B4455;\n",
              "      fill: #D2E3FC;\n",
              "    }\n",
              "\n",
              "    [theme=dark] .colab-df-convert:hover {\n",
              "      background-color: #434B5C;\n",
              "      box-shadow: 0px 1px 3px 1px rgba(0, 0, 0, 0.15);\n",
              "      filter: drop-shadow(0px 1px 2px rgba(0, 0, 0, 0.3));\n",
              "      fill: #FFFFFF;\n",
              "    }\n",
              "  </style>\n",
              "\n",
              "      <script>\n",
              "        const buttonEl =\n",
              "          document.querySelector('#df-eb2c248d-a1f5-4e99-b811-ea4d1bbe866c button.colab-df-convert');\n",
              "        buttonEl.style.display =\n",
              "          google.colab.kernel.accessAllowed ? 'block' : 'none';\n",
              "\n",
              "        async function convertToInteractive(key) {\n",
              "          const element = document.querySelector('#df-eb2c248d-a1f5-4e99-b811-ea4d1bbe866c');\n",
              "          const dataTable =\n",
              "            await google.colab.kernel.invokeFunction('convertToInteractive',\n",
              "                                                     [key], {});\n",
              "          if (!dataTable) return;\n",
              "\n",
              "          const docLinkHtml = 'Like what you see? Visit the ' +\n",
              "            '<a target=\"_blank\" href=https://colab.research.google.com/notebooks/data_table.ipynb>data table notebook</a>'\n",
              "            + ' to learn more about interactive tables.';\n",
              "          element.innerHTML = '';\n",
              "          dataTable['output_type'] = 'display_data';\n",
              "          await google.colab.output.renderOutput(dataTable, element);\n",
              "          const docLink = document.createElement('div');\n",
              "          docLink.innerHTML = docLinkHtml;\n",
              "          element.appendChild(docLink);\n",
              "        }\n",
              "      </script>\n",
              "    </div>\n",
              "  </div>\n",
              "  "
            ]
          },
          "metadata": {},
          "execution_count": 101
        }
      ]
    },
    {
      "cell_type": "code",
      "source": [
        "# Убедимся что нет пустых значений\n",
        "data.isnull().sum()"
      ],
      "metadata": {
        "colab": {
          "base_uri": "https://localhost:8080/"
        },
        "id": "d1yICaxxtine",
        "outputId": "ca4392ea-f71a-4979-cd02-4a786db7659a"
      },
      "execution_count": 112,
      "outputs": [
        {
          "output_type": "execute_result",
          "data": {
            "text/plain": [
              "date               0\n",
              "precipitation      0\n",
              "temp_max           0\n",
              "temp_min           0\n",
              "wind               0\n",
              "weather            0\n",
              "wind_log           0\n",
              "wind_reciprocal    0\n",
              "wind_sqr           0\n",
              "wind_exp1          0\n",
              "wind_exp2          0\n",
              "wind_exp3          0\n",
              "wind_boxcox        0\n",
              "dtype: int64"
            ]
          },
          "metadata": {},
          "execution_count": 112
        }
      ]
    },
    {
      "cell_type": "code",
      "execution_count": 113,
      "metadata": {
        "id": "2v4qTjIzYTr1"
      },
      "outputs": [],
      "source": [
        "\n",
        "le = LabelEncoder()\n",
        "cat_enc_le = le.fit_transform(data['weather'])"
      ]
    },
    {
      "cell_type": "code",
      "execution_count": 114,
      "metadata": {
        "colab": {
          "base_uri": "https://localhost:8080/"
        },
        "id": "VtVFKqe9YTr1",
        "outputId": "09671143-8da8-4229-84ba-1b5e387bb753"
      },
      "outputs": [
        {
          "output_type": "execute_result",
          "data": {
            "text/plain": [
              "array(['drizzle', 'rain', 'sun', 'snow', 'fog'], dtype=object)"
            ]
          },
          "metadata": {},
          "execution_count": 114
        }
      ],
      "source": [
        "data['weather'].unique()"
      ]
    },
    {
      "cell_type": "code",
      "execution_count": 115,
      "metadata": {
        "colab": {
          "base_uri": "https://localhost:8080/"
        },
        "id": "o4ooJ4EkYTr1",
        "outputId": "7cf70bc5-fcbd-4b44-be45-5bcecad5720d"
      },
      "outputs": [
        {
          "output_type": "execute_result",
          "data": {
            "text/plain": [
              "array([0, 1, 2, 3, 4])"
            ]
          },
          "metadata": {},
          "execution_count": 115
        }
      ],
      "source": [
        "np.unique(cat_enc_le)"
      ]
    },
    {
      "cell_type": "code",
      "execution_count": 117,
      "metadata": {
        "colab": {
          "base_uri": "https://localhost:8080/"
        },
        "id": "fyAbMoaoYTr2",
        "outputId": "caddd2d2-02d6-44a6-9ddc-2ed5fff967a9"
      },
      "outputs": [
        {
          "output_type": "execute_result",
          "data": {
            "text/plain": [
              "array(['drizzle', 'fog', 'rain', 'snow', 'sun'], dtype=object)"
            ]
          },
          "metadata": {},
          "execution_count": 117
        }
      ],
      "source": [
        "le.inverse_transform([0, 1, 2, 3, 4])"
      ]
    },
    {
      "cell_type": "code",
      "execution_count": 122,
      "metadata": {
        "colab": {
          "base_uri": "https://localhost:8080/"
        },
        "id": "DHeM-rr9YTr2",
        "outputId": "5e16eef1-2faf-4328-eb09-6e3b38e1dff2"
      },
      "outputs": [
        {
          "output_type": "execute_result",
          "data": {
            "text/plain": [
              "array(['drizzle', 'rain', 'sun', 'snow', 'fog'], dtype=object)"
            ]
          },
          "metadata": {},
          "execution_count": 122
        }
      ],
      "source": [
        "data['weather'].unique()"
      ]
    },
    {
      "cell_type": "code",
      "source": [
        "pip install category_encoders"
      ],
      "metadata": {
        "colab": {
          "base_uri": "https://localhost:8080/"
        },
        "id": "6IaVPurIgEMh",
        "outputId": "ba125ee1-8b45-48dc-b1dd-031663b497ec"
      },
      "execution_count": 118,
      "outputs": [
        {
          "output_type": "stream",
          "name": "stdout",
          "text": [
            "Collecting category_encoders\n",
            "  Downloading category_encoders-2.4.0-py2.py3-none-any.whl (86 kB)\n",
            "\u001b[?25l\r\u001b[K     |███▉                            | 10 kB 22.3 MB/s eta 0:00:01\r\u001b[K     |███████▋                        | 20 kB 12.9 MB/s eta 0:00:01\r\u001b[K     |███████████▍                    | 30 kB 9.7 MB/s eta 0:00:01\r\u001b[K     |███████████████▏                | 40 kB 8.8 MB/s eta 0:00:01\r\u001b[K     |███████████████████             | 51 kB 4.4 MB/s eta 0:00:01\r\u001b[K     |██████████████████████▊         | 61 kB 5.1 MB/s eta 0:00:01\r\u001b[K     |██████████████████████████▌     | 71 kB 5.5 MB/s eta 0:00:01\r\u001b[K     |██████████████████████████████▎ | 81 kB 5.7 MB/s eta 0:00:01\r\u001b[K     |████████████████████████████████| 86 kB 2.8 MB/s \n",
            "\u001b[?25hRequirement already satisfied: scipy>=1.0.0 in /usr/local/lib/python3.7/dist-packages (from category_encoders) (1.4.1)\n",
            "Requirement already satisfied: scikit-learn>=0.20.0 in /usr/local/lib/python3.7/dist-packages (from category_encoders) (1.0.2)\n",
            "Requirement already satisfied: patsy>=0.5.1 in /usr/local/lib/python3.7/dist-packages (from category_encoders) (0.5.2)\n",
            "Requirement already satisfied: numpy>=1.14.0 in /usr/local/lib/python3.7/dist-packages (from category_encoders) (1.21.5)\n",
            "Requirement already satisfied: pandas>=0.21.1 in /usr/local/lib/python3.7/dist-packages (from category_encoders) (1.3.5)\n",
            "Requirement already satisfied: statsmodels>=0.9.0 in /usr/local/lib/python3.7/dist-packages (from category_encoders) (0.10.2)\n",
            "Requirement already satisfied: python-dateutil>=2.7.3 in /usr/local/lib/python3.7/dist-packages (from pandas>=0.21.1->category_encoders) (2.8.2)\n",
            "Requirement already satisfied: pytz>=2017.3 in /usr/local/lib/python3.7/dist-packages (from pandas>=0.21.1->category_encoders) (2018.9)\n",
            "Requirement already satisfied: six in /usr/local/lib/python3.7/dist-packages (from patsy>=0.5.1->category_encoders) (1.15.0)\n",
            "Requirement already satisfied: threadpoolctl>=2.0.0 in /usr/local/lib/python3.7/dist-packages (from scikit-learn>=0.20.0->category_encoders) (3.1.0)\n",
            "Requirement already satisfied: joblib>=0.11 in /usr/local/lib/python3.7/dist-packages (from scikit-learn>=0.20.0->category_encoders) (1.1.0)\n",
            "Installing collected packages: category-encoders\n",
            "Successfully installed category-encoders-2.4.0\n"
          ]
        }
      ]
    },
    {
      "cell_type": "code",
      "execution_count": 119,
      "metadata": {
        "id": "vzyCmEscYTr3",
        "colab": {
          "base_uri": "https://localhost:8080/"
        },
        "outputId": "07d0e62b-5194-424e-df08-33f42c006636"
      },
      "outputs": [
        {
          "output_type": "stream",
          "name": "stderr",
          "text": [
            "/usr/local/lib/python3.7/dist-packages/statsmodels/tools/_testing.py:19: FutureWarning: pandas.util.testing is deprecated. Use the functions in the public API at pandas.testing instead.\n",
            "  import pandas.util.testing as tm\n"
          ]
        }
      ],
      "source": [
        "#CountEncoder\n",
        "from category_encoders.count import CountEncoder as ce_CountEncoder"
      ]
    },
    {
      "cell_type": "code",
      "execution_count": 127,
      "metadata": {
        "id": "IOQx0LOCYTr3"
      },
      "outputs": [],
      "source": [
        "ce_CountEncoder1 = ce_CountEncoder()\n",
        "data_COUNT_ENC = ce_CountEncoder1.fit_transform(data[data.columns.difference(['wind'])])"
      ]
    },
    {
      "cell_type": "code",
      "execution_count": 128,
      "metadata": {
        "colab": {
          "base_uri": "https://localhost:8080/",
          "height": 206
        },
        "id": "3IP90ZkiYTr3",
        "outputId": "2d7d4d80-c819-4a31-feff-16ab010dca8b"
      },
      "outputs": [
        {
          "output_type": "execute_result",
          "data": {
            "text/plain": [
              "   date  precipitation  temp_max  temp_min  weather  wind_boxcox  wind_exp1  \\\n",
              "0     1            0.0      12.8       5.0       53     1.956277   2.805855   \n",
              "1     1           10.9      10.6       2.8      641     1.888392   2.725681   \n",
              "2     1            0.8      11.7       7.2      641     0.942893   1.742416   \n",
              "3     1           20.3      12.2       5.6      641     1.956277   2.805855   \n",
              "4     1            1.3       8.9       2.8      641     2.381883   3.338514   \n",
              "\n",
              "   wind_exp2  wind_exp3  wind_log  wind_reciprocal  wind_sqr  \n",
              "0      22.09   1.674205  1.547563         0.212766  2.167948  \n",
              "1      20.25   1.650136  1.504077         0.222222  2.121320  \n",
              "2       5.29   1.319640  0.832909         0.434783  1.516575  \n",
              "3      22.09   1.674205  1.547563         0.212766  2.167948  \n",
              "4      37.21   1.826059  1.808289         0.163934  2.469818  "
            ],
            "text/html": [
              "\n",
              "  <div id=\"df-009ee36c-7141-4153-8135-1874805e5de3\">\n",
              "    <div class=\"colab-df-container\">\n",
              "      <div>\n",
              "<style scoped>\n",
              "    .dataframe tbody tr th:only-of-type {\n",
              "        vertical-align: middle;\n",
              "    }\n",
              "\n",
              "    .dataframe tbody tr th {\n",
              "        vertical-align: top;\n",
              "    }\n",
              "\n",
              "    .dataframe thead th {\n",
              "        text-align: right;\n",
              "    }\n",
              "</style>\n",
              "<table border=\"1\" class=\"dataframe\">\n",
              "  <thead>\n",
              "    <tr style=\"text-align: right;\">\n",
              "      <th></th>\n",
              "      <th>date</th>\n",
              "      <th>precipitation</th>\n",
              "      <th>temp_max</th>\n",
              "      <th>temp_min</th>\n",
              "      <th>weather</th>\n",
              "      <th>wind_boxcox</th>\n",
              "      <th>wind_exp1</th>\n",
              "      <th>wind_exp2</th>\n",
              "      <th>wind_exp3</th>\n",
              "      <th>wind_log</th>\n",
              "      <th>wind_reciprocal</th>\n",
              "      <th>wind_sqr</th>\n",
              "    </tr>\n",
              "  </thead>\n",
              "  <tbody>\n",
              "    <tr>\n",
              "      <th>0</th>\n",
              "      <td>1</td>\n",
              "      <td>0.0</td>\n",
              "      <td>12.8</td>\n",
              "      <td>5.0</td>\n",
              "      <td>53</td>\n",
              "      <td>1.956277</td>\n",
              "      <td>2.805855</td>\n",
              "      <td>22.09</td>\n",
              "      <td>1.674205</td>\n",
              "      <td>1.547563</td>\n",
              "      <td>0.212766</td>\n",
              "      <td>2.167948</td>\n",
              "    </tr>\n",
              "    <tr>\n",
              "      <th>1</th>\n",
              "      <td>1</td>\n",
              "      <td>10.9</td>\n",
              "      <td>10.6</td>\n",
              "      <td>2.8</td>\n",
              "      <td>641</td>\n",
              "      <td>1.888392</td>\n",
              "      <td>2.725681</td>\n",
              "      <td>20.25</td>\n",
              "      <td>1.650136</td>\n",
              "      <td>1.504077</td>\n",
              "      <td>0.222222</td>\n",
              "      <td>2.121320</td>\n",
              "    </tr>\n",
              "    <tr>\n",
              "      <th>2</th>\n",
              "      <td>1</td>\n",
              "      <td>0.8</td>\n",
              "      <td>11.7</td>\n",
              "      <td>7.2</td>\n",
              "      <td>641</td>\n",
              "      <td>0.942893</td>\n",
              "      <td>1.742416</td>\n",
              "      <td>5.29</td>\n",
              "      <td>1.319640</td>\n",
              "      <td>0.832909</td>\n",
              "      <td>0.434783</td>\n",
              "      <td>1.516575</td>\n",
              "    </tr>\n",
              "    <tr>\n",
              "      <th>3</th>\n",
              "      <td>1</td>\n",
              "      <td>20.3</td>\n",
              "      <td>12.2</td>\n",
              "      <td>5.6</td>\n",
              "      <td>641</td>\n",
              "      <td>1.956277</td>\n",
              "      <td>2.805855</td>\n",
              "      <td>22.09</td>\n",
              "      <td>1.674205</td>\n",
              "      <td>1.547563</td>\n",
              "      <td>0.212766</td>\n",
              "      <td>2.167948</td>\n",
              "    </tr>\n",
              "    <tr>\n",
              "      <th>4</th>\n",
              "      <td>1</td>\n",
              "      <td>1.3</td>\n",
              "      <td>8.9</td>\n",
              "      <td>2.8</td>\n",
              "      <td>641</td>\n",
              "      <td>2.381883</td>\n",
              "      <td>3.338514</td>\n",
              "      <td>37.21</td>\n",
              "      <td>1.826059</td>\n",
              "      <td>1.808289</td>\n",
              "      <td>0.163934</td>\n",
              "      <td>2.469818</td>\n",
              "    </tr>\n",
              "  </tbody>\n",
              "</table>\n",
              "</div>\n",
              "      <button class=\"colab-df-convert\" onclick=\"convertToInteractive('df-009ee36c-7141-4153-8135-1874805e5de3')\"\n",
              "              title=\"Convert this dataframe to an interactive table.\"\n",
              "              style=\"display:none;\">\n",
              "        \n",
              "  <svg xmlns=\"http://www.w3.org/2000/svg\" height=\"24px\"viewBox=\"0 0 24 24\"\n",
              "       width=\"24px\">\n",
              "    <path d=\"M0 0h24v24H0V0z\" fill=\"none\"/>\n",
              "    <path d=\"M18.56 5.44l.94 2.06.94-2.06 2.06-.94-2.06-.94-.94-2.06-.94 2.06-2.06.94zm-11 1L8.5 8.5l.94-2.06 2.06-.94-2.06-.94L8.5 2.5l-.94 2.06-2.06.94zm10 10l.94 2.06.94-2.06 2.06-.94-2.06-.94-.94-2.06-.94 2.06-2.06.94z\"/><path d=\"M17.41 7.96l-1.37-1.37c-.4-.4-.92-.59-1.43-.59-.52 0-1.04.2-1.43.59L10.3 9.45l-7.72 7.72c-.78.78-.78 2.05 0 2.83L4 21.41c.39.39.9.59 1.41.59.51 0 1.02-.2 1.41-.59l7.78-7.78 2.81-2.81c.8-.78.8-2.07 0-2.86zM5.41 20L4 18.59l7.72-7.72 1.47 1.35L5.41 20z\"/>\n",
              "  </svg>\n",
              "      </button>\n",
              "      \n",
              "  <style>\n",
              "    .colab-df-container {\n",
              "      display:flex;\n",
              "      flex-wrap:wrap;\n",
              "      gap: 12px;\n",
              "    }\n",
              "\n",
              "    .colab-df-convert {\n",
              "      background-color: #E8F0FE;\n",
              "      border: none;\n",
              "      border-radius: 50%;\n",
              "      cursor: pointer;\n",
              "      display: none;\n",
              "      fill: #1967D2;\n",
              "      height: 32px;\n",
              "      padding: 0 0 0 0;\n",
              "      width: 32px;\n",
              "    }\n",
              "\n",
              "    .colab-df-convert:hover {\n",
              "      background-color: #E2EBFA;\n",
              "      box-shadow: 0px 1px 2px rgba(60, 64, 67, 0.3), 0px 1px 3px 1px rgba(60, 64, 67, 0.15);\n",
              "      fill: #174EA6;\n",
              "    }\n",
              "\n",
              "    [theme=dark] .colab-df-convert {\n",
              "      background-color: #3B4455;\n",
              "      fill: #D2E3FC;\n",
              "    }\n",
              "\n",
              "    [theme=dark] .colab-df-convert:hover {\n",
              "      background-color: #434B5C;\n",
              "      box-shadow: 0px 1px 3px 1px rgba(0, 0, 0, 0.15);\n",
              "      filter: drop-shadow(0px 1px 2px rgba(0, 0, 0, 0.3));\n",
              "      fill: #FFFFFF;\n",
              "    }\n",
              "  </style>\n",
              "\n",
              "      <script>\n",
              "        const buttonEl =\n",
              "          document.querySelector('#df-009ee36c-7141-4153-8135-1874805e5de3 button.colab-df-convert');\n",
              "        buttonEl.style.display =\n",
              "          google.colab.kernel.accessAllowed ? 'block' : 'none';\n",
              "\n",
              "        async function convertToInteractive(key) {\n",
              "          const element = document.querySelector('#df-009ee36c-7141-4153-8135-1874805e5de3');\n",
              "          const dataTable =\n",
              "            await google.colab.kernel.invokeFunction('convertToInteractive',\n",
              "                                                     [key], {});\n",
              "          if (!dataTable) return;\n",
              "\n",
              "          const docLinkHtml = 'Like what you see? Visit the ' +\n",
              "            '<a target=\"_blank\" href=https://colab.research.google.com/notebooks/data_table.ipynb>data table notebook</a>'\n",
              "            + ' to learn more about interactive tables.';\n",
              "          element.innerHTML = '';\n",
              "          dataTable['output_type'] = 'display_data';\n",
              "          await google.colab.output.renderOutput(dataTable, element);\n",
              "          const docLink = document.createElement('div');\n",
              "          docLink.innerHTML = docLinkHtml;\n",
              "          element.appendChild(docLink);\n",
              "        }\n",
              "      </script>\n",
              "    </div>\n",
              "  </div>\n",
              "  "
            ]
          },
          "metadata": {},
          "execution_count": 128
        }
      ],
      "source": [
        "data_COUNT_ENC.head()"
      ]
    },
    {
      "cell_type": "code",
      "source": [
        "data['weather'].unique()"
      ],
      "metadata": {
        "colab": {
          "base_uri": "https://localhost:8080/"
        },
        "id": "YuIwn0ebl6vk",
        "outputId": "4face143-bf2e-4b7c-d338-917da6d85ef1"
      },
      "execution_count": 130,
      "outputs": [
        {
          "output_type": "execute_result",
          "data": {
            "text/plain": [
              "array(['drizzle', 'rain', 'sun', 'snow', 'fog'], dtype=object)"
            ]
          },
          "metadata": {},
          "execution_count": 130
        }
      ]
    },
    {
      "cell_type": "code",
      "source": [
        "data_COUNT_ENC['weather'].unique()"
      ],
      "metadata": {
        "colab": {
          "base_uri": "https://localhost:8080/"
        },
        "id": "nUVmdcctmASP",
        "outputId": "2023cf3c-ccbb-4360-8366-6885d82e722f"
      },
      "execution_count": 131,
      "outputs": [
        {
          "output_type": "execute_result",
          "data": {
            "text/plain": [
              "array([ 53, 641, 640,  26, 101])"
            ]
          },
          "metadata": {},
          "execution_count": 131
        }
      ]
    },
    {
      "cell_type": "code",
      "source": [
        "ce_CountEncoder2 = ce_CountEncoder(normalize=True)\n",
        "data_FREQ_ENC = ce_CountEncoder2.fit_transform(data[data.columns.difference(['wind'])])"
      ],
      "metadata": {
        "id": "UAzmXrMNmJdr"
      },
      "execution_count": 132,
      "outputs": []
    },
    {
      "cell_type": "code",
      "source": [
        "data_FREQ_ENC['weather'].unique()"
      ],
      "metadata": {
        "colab": {
          "base_uri": "https://localhost:8080/"
        },
        "id": "znikZNcDmL2C",
        "outputId": "30896134-1b84-4bb9-f381-b3c21b95d2f8"
      },
      "execution_count": 133,
      "outputs": [
        {
          "output_type": "execute_result",
          "data": {
            "text/plain": [
              "array([0.03627652, 0.43874059, 0.43805613, 0.01779603, 0.06913073])"
            ]
          },
          "metadata": {},
          "execution_count": 133
        }
      ]
    },
    {
      "cell_type": "code",
      "execution_count": 134,
      "metadata": {
        "id": "oOz0-j3SYTr5"
      },
      "outputs": [],
      "source": [
        "from category_encoders.helmert import HelmertEncoder as ce_HelmertEncoder"
      ]
    },
    {
      "cell_type": "code",
      "execution_count": 135,
      "metadata": {
        "id": "82Hmy3nuYTr5"
      },
      "outputs": [],
      "source": [
        "#HelmetEncoder\n",
        "ce_HelmertEncoder1 = ce_HelmertEncoder()\n",
        "data_HELM_ENC = ce_HelmertEncoder1.fit_transform(data[data.columns.difference(['wind'])], data['wind'])"
      ]
    },
    {
      "cell_type": "code",
      "execution_count": 137,
      "metadata": {
        "colab": {
          "base_uri": "https://localhost:8080/",
          "height": 423
        },
        "id": "1I4BYH23YTr5",
        "outputId": "f805df09-57aa-435f-8a27-bc28b04484bb"
      },
      "outputs": [
        {
          "output_type": "execute_result",
          "data": {
            "text/plain": [
              "    intercept  date_0  date_1  date_2  date_3  date_4  date_5  date_6  date_7  \\\n",
              "0           1    -1.0    -1.0    -1.0    -1.0    -1.0    -1.0    -1.0    -1.0   \n",
              "1           1     1.0    -1.0    -1.0    -1.0    -1.0    -1.0    -1.0    -1.0   \n",
              "2           1     0.0     2.0    -1.0    -1.0    -1.0    -1.0    -1.0    -1.0   \n",
              "3           1     0.0     0.0     3.0    -1.0    -1.0    -1.0    -1.0    -1.0   \n",
              "4           1     0.0     0.0     0.0     4.0    -1.0    -1.0    -1.0    -1.0   \n",
              "..        ...     ...     ...     ...     ...     ...     ...     ...     ...   \n",
              "95          1     0.0     0.0     0.0     0.0     0.0     0.0     0.0     0.0   \n",
              "96          1     0.0     0.0     0.0     0.0     0.0     0.0     0.0     0.0   \n",
              "97          1     0.0     0.0     0.0     0.0     0.0     0.0     0.0     0.0   \n",
              "98          1     0.0     0.0     0.0     0.0     0.0     0.0     0.0     0.0   \n",
              "99          1     0.0     0.0     0.0     0.0     0.0     0.0     0.0     0.0   \n",
              "\n",
              "    date_8  ...  weather_1  weather_2  weather_3  wind_boxcox  wind_exp1  \\\n",
              "0     -1.0  ...       -1.0       -1.0       -1.0     1.956277   2.805855   \n",
              "1     -1.0  ...       -1.0       -1.0       -1.0     1.888392   2.725681   \n",
              "2     -1.0  ...       -1.0       -1.0       -1.0     0.942893   1.742416   \n",
              "3     -1.0  ...       -1.0       -1.0       -1.0     1.956277   2.805855   \n",
              "4     -1.0  ...       -1.0       -1.0       -1.0     2.381883   3.338514   \n",
              "..     ...  ...        ...        ...        ...          ...        ...   \n",
              "95     0.0  ...        0.0        3.0       -1.0     0.641225   1.479727   \n",
              "96     0.0  ...       -1.0       -1.0       -1.0     1.102072   1.890814   \n",
              "97     0.0  ...        2.0       -1.0       -1.0     1.818335   2.644310   \n",
              "98     0.0  ...        2.0       -1.0       -1.0     1.745931   2.561666   \n",
              "99     0.0  ...        2.0       -1.0       -1.0     0.828409   1.639883   \n",
              "\n",
              "    wind_exp2  wind_exp3  wind_log  wind_reciprocal  wind_sqr  \n",
              "0       22.09   1.674205  1.547563         0.212766  2.167948  \n",
              "1       20.25   1.650136  1.504077         0.222222  2.121320  \n",
              "2        5.29   1.319640  0.832909         0.434783  1.516575  \n",
              "3       22.09   1.674205  1.547563         0.212766  2.167948  \n",
              "4       37.21   1.826059  1.808289         0.163934  2.469818  \n",
              "..        ...        ...       ...              ...       ...  \n",
              "95       3.24   1.216202  0.587787         0.555556  1.341641  \n",
              "96       6.76   1.374631  0.955511         0.384615  1.612452  \n",
              "97      18.49   1.625343  1.458615         0.232558  2.073644  \n",
              "98      16.81   1.599768  1.410987         0.243902  2.024846  \n",
              "99       4.41   1.280263  0.741937         0.476190  1.449138  \n",
              "\n",
              "[100 rows x 1475 columns]"
            ],
            "text/html": [
              "\n",
              "  <div id=\"df-fea2bcfd-8300-483c-a1a4-15b377edc9aa\">\n",
              "    <div class=\"colab-df-container\">\n",
              "      <div>\n",
              "<style scoped>\n",
              "    .dataframe tbody tr th:only-of-type {\n",
              "        vertical-align: middle;\n",
              "    }\n",
              "\n",
              "    .dataframe tbody tr th {\n",
              "        vertical-align: top;\n",
              "    }\n",
              "\n",
              "    .dataframe thead th {\n",
              "        text-align: right;\n",
              "    }\n",
              "</style>\n",
              "<table border=\"1\" class=\"dataframe\">\n",
              "  <thead>\n",
              "    <tr style=\"text-align: right;\">\n",
              "      <th></th>\n",
              "      <th>intercept</th>\n",
              "      <th>date_0</th>\n",
              "      <th>date_1</th>\n",
              "      <th>date_2</th>\n",
              "      <th>date_3</th>\n",
              "      <th>date_4</th>\n",
              "      <th>date_5</th>\n",
              "      <th>date_6</th>\n",
              "      <th>date_7</th>\n",
              "      <th>date_8</th>\n",
              "      <th>...</th>\n",
              "      <th>weather_1</th>\n",
              "      <th>weather_2</th>\n",
              "      <th>weather_3</th>\n",
              "      <th>wind_boxcox</th>\n",
              "      <th>wind_exp1</th>\n",
              "      <th>wind_exp2</th>\n",
              "      <th>wind_exp3</th>\n",
              "      <th>wind_log</th>\n",
              "      <th>wind_reciprocal</th>\n",
              "      <th>wind_sqr</th>\n",
              "    </tr>\n",
              "  </thead>\n",
              "  <tbody>\n",
              "    <tr>\n",
              "      <th>0</th>\n",
              "      <td>1</td>\n",
              "      <td>-1.0</td>\n",
              "      <td>-1.0</td>\n",
              "      <td>-1.0</td>\n",
              "      <td>-1.0</td>\n",
              "      <td>-1.0</td>\n",
              "      <td>-1.0</td>\n",
              "      <td>-1.0</td>\n",
              "      <td>-1.0</td>\n",
              "      <td>-1.0</td>\n",
              "      <td>...</td>\n",
              "      <td>-1.0</td>\n",
              "      <td>-1.0</td>\n",
              "      <td>-1.0</td>\n",
              "      <td>1.956277</td>\n",
              "      <td>2.805855</td>\n",
              "      <td>22.09</td>\n",
              "      <td>1.674205</td>\n",
              "      <td>1.547563</td>\n",
              "      <td>0.212766</td>\n",
              "      <td>2.167948</td>\n",
              "    </tr>\n",
              "    <tr>\n",
              "      <th>1</th>\n",
              "      <td>1</td>\n",
              "      <td>1.0</td>\n",
              "      <td>-1.0</td>\n",
              "      <td>-1.0</td>\n",
              "      <td>-1.0</td>\n",
              "      <td>-1.0</td>\n",
              "      <td>-1.0</td>\n",
              "      <td>-1.0</td>\n",
              "      <td>-1.0</td>\n",
              "      <td>-1.0</td>\n",
              "      <td>...</td>\n",
              "      <td>-1.0</td>\n",
              "      <td>-1.0</td>\n",
              "      <td>-1.0</td>\n",
              "      <td>1.888392</td>\n",
              "      <td>2.725681</td>\n",
              "      <td>20.25</td>\n",
              "      <td>1.650136</td>\n",
              "      <td>1.504077</td>\n",
              "      <td>0.222222</td>\n",
              "      <td>2.121320</td>\n",
              "    </tr>\n",
              "    <tr>\n",
              "      <th>2</th>\n",
              "      <td>1</td>\n",
              "      <td>0.0</td>\n",
              "      <td>2.0</td>\n",
              "      <td>-1.0</td>\n",
              "      <td>-1.0</td>\n",
              "      <td>-1.0</td>\n",
              "      <td>-1.0</td>\n",
              "      <td>-1.0</td>\n",
              "      <td>-1.0</td>\n",
              "      <td>-1.0</td>\n",
              "      <td>...</td>\n",
              "      <td>-1.0</td>\n",
              "      <td>-1.0</td>\n",
              "      <td>-1.0</td>\n",
              "      <td>0.942893</td>\n",
              "      <td>1.742416</td>\n",
              "      <td>5.29</td>\n",
              "      <td>1.319640</td>\n",
              "      <td>0.832909</td>\n",
              "      <td>0.434783</td>\n",
              "      <td>1.516575</td>\n",
              "    </tr>\n",
              "    <tr>\n",
              "      <th>3</th>\n",
              "      <td>1</td>\n",
              "      <td>0.0</td>\n",
              "      <td>0.0</td>\n",
              "      <td>3.0</td>\n",
              "      <td>-1.0</td>\n",
              "      <td>-1.0</td>\n",
              "      <td>-1.0</td>\n",
              "      <td>-1.0</td>\n",
              "      <td>-1.0</td>\n",
              "      <td>-1.0</td>\n",
              "      <td>...</td>\n",
              "      <td>-1.0</td>\n",
              "      <td>-1.0</td>\n",
              "      <td>-1.0</td>\n",
              "      <td>1.956277</td>\n",
              "      <td>2.805855</td>\n",
              "      <td>22.09</td>\n",
              "      <td>1.674205</td>\n",
              "      <td>1.547563</td>\n",
              "      <td>0.212766</td>\n",
              "      <td>2.167948</td>\n",
              "    </tr>\n",
              "    <tr>\n",
              "      <th>4</th>\n",
              "      <td>1</td>\n",
              "      <td>0.0</td>\n",
              "      <td>0.0</td>\n",
              "      <td>0.0</td>\n",
              "      <td>4.0</td>\n",
              "      <td>-1.0</td>\n",
              "      <td>-1.0</td>\n",
              "      <td>-1.0</td>\n",
              "      <td>-1.0</td>\n",
              "      <td>-1.0</td>\n",
              "      <td>...</td>\n",
              "      <td>-1.0</td>\n",
              "      <td>-1.0</td>\n",
              "      <td>-1.0</td>\n",
              "      <td>2.381883</td>\n",
              "      <td>3.338514</td>\n",
              "      <td>37.21</td>\n",
              "      <td>1.826059</td>\n",
              "      <td>1.808289</td>\n",
              "      <td>0.163934</td>\n",
              "      <td>2.469818</td>\n",
              "    </tr>\n",
              "    <tr>\n",
              "      <th>...</th>\n",
              "      <td>...</td>\n",
              "      <td>...</td>\n",
              "      <td>...</td>\n",
              "      <td>...</td>\n",
              "      <td>...</td>\n",
              "      <td>...</td>\n",
              "      <td>...</td>\n",
              "      <td>...</td>\n",
              "      <td>...</td>\n",
              "      <td>...</td>\n",
              "      <td>...</td>\n",
              "      <td>...</td>\n",
              "      <td>...</td>\n",
              "      <td>...</td>\n",
              "      <td>...</td>\n",
              "      <td>...</td>\n",
              "      <td>...</td>\n",
              "      <td>...</td>\n",
              "      <td>...</td>\n",
              "      <td>...</td>\n",
              "      <td>...</td>\n",
              "    </tr>\n",
              "    <tr>\n",
              "      <th>95</th>\n",
              "      <td>1</td>\n",
              "      <td>0.0</td>\n",
              "      <td>0.0</td>\n",
              "      <td>0.0</td>\n",
              "      <td>0.0</td>\n",
              "      <td>0.0</td>\n",
              "      <td>0.0</td>\n",
              "      <td>0.0</td>\n",
              "      <td>0.0</td>\n",
              "      <td>0.0</td>\n",
              "      <td>...</td>\n",
              "      <td>0.0</td>\n",
              "      <td>3.0</td>\n",
              "      <td>-1.0</td>\n",
              "      <td>0.641225</td>\n",
              "      <td>1.479727</td>\n",
              "      <td>3.24</td>\n",
              "      <td>1.216202</td>\n",
              "      <td>0.587787</td>\n",
              "      <td>0.555556</td>\n",
              "      <td>1.341641</td>\n",
              "    </tr>\n",
              "    <tr>\n",
              "      <th>96</th>\n",
              "      <td>1</td>\n",
              "      <td>0.0</td>\n",
              "      <td>0.0</td>\n",
              "      <td>0.0</td>\n",
              "      <td>0.0</td>\n",
              "      <td>0.0</td>\n",
              "      <td>0.0</td>\n",
              "      <td>0.0</td>\n",
              "      <td>0.0</td>\n",
              "      <td>0.0</td>\n",
              "      <td>...</td>\n",
              "      <td>-1.0</td>\n",
              "      <td>-1.0</td>\n",
              "      <td>-1.0</td>\n",
              "      <td>1.102072</td>\n",
              "      <td>1.890814</td>\n",
              "      <td>6.76</td>\n",
              "      <td>1.374631</td>\n",
              "      <td>0.955511</td>\n",
              "      <td>0.384615</td>\n",
              "      <td>1.612452</td>\n",
              "    </tr>\n",
              "    <tr>\n",
              "      <th>97</th>\n",
              "      <td>1</td>\n",
              "      <td>0.0</td>\n",
              "      <td>0.0</td>\n",
              "      <td>0.0</td>\n",
              "      <td>0.0</td>\n",
              "      <td>0.0</td>\n",
              "      <td>0.0</td>\n",
              "      <td>0.0</td>\n",
              "      <td>0.0</td>\n",
              "      <td>0.0</td>\n",
              "      <td>...</td>\n",
              "      <td>2.0</td>\n",
              "      <td>-1.0</td>\n",
              "      <td>-1.0</td>\n",
              "      <td>1.818335</td>\n",
              "      <td>2.644310</td>\n",
              "      <td>18.49</td>\n",
              "      <td>1.625343</td>\n",
              "      <td>1.458615</td>\n",
              "      <td>0.232558</td>\n",
              "      <td>2.073644</td>\n",
              "    </tr>\n",
              "    <tr>\n",
              "      <th>98</th>\n",
              "      <td>1</td>\n",
              "      <td>0.0</td>\n",
              "      <td>0.0</td>\n",
              "      <td>0.0</td>\n",
              "      <td>0.0</td>\n",
              "      <td>0.0</td>\n",
              "      <td>0.0</td>\n",
              "      <td>0.0</td>\n",
              "      <td>0.0</td>\n",
              "      <td>0.0</td>\n",
              "      <td>...</td>\n",
              "      <td>2.0</td>\n",
              "      <td>-1.0</td>\n",
              "      <td>-1.0</td>\n",
              "      <td>1.745931</td>\n",
              "      <td>2.561666</td>\n",
              "      <td>16.81</td>\n",
              "      <td>1.599768</td>\n",
              "      <td>1.410987</td>\n",
              "      <td>0.243902</td>\n",
              "      <td>2.024846</td>\n",
              "    </tr>\n",
              "    <tr>\n",
              "      <th>99</th>\n",
              "      <td>1</td>\n",
              "      <td>0.0</td>\n",
              "      <td>0.0</td>\n",
              "      <td>0.0</td>\n",
              "      <td>0.0</td>\n",
              "      <td>0.0</td>\n",
              "      <td>0.0</td>\n",
              "      <td>0.0</td>\n",
              "      <td>0.0</td>\n",
              "      <td>0.0</td>\n",
              "      <td>...</td>\n",
              "      <td>2.0</td>\n",
              "      <td>-1.0</td>\n",
              "      <td>-1.0</td>\n",
              "      <td>0.828409</td>\n",
              "      <td>1.639883</td>\n",
              "      <td>4.41</td>\n",
              "      <td>1.280263</td>\n",
              "      <td>0.741937</td>\n",
              "      <td>0.476190</td>\n",
              "      <td>1.449138</td>\n",
              "    </tr>\n",
              "  </tbody>\n",
              "</table>\n",
              "<p>100 rows × 1475 columns</p>\n",
              "</div>\n",
              "      <button class=\"colab-df-convert\" onclick=\"convertToInteractive('df-fea2bcfd-8300-483c-a1a4-15b377edc9aa')\"\n",
              "              title=\"Convert this dataframe to an interactive table.\"\n",
              "              style=\"display:none;\">\n",
              "        \n",
              "  <svg xmlns=\"http://www.w3.org/2000/svg\" height=\"24px\"viewBox=\"0 0 24 24\"\n",
              "       width=\"24px\">\n",
              "    <path d=\"M0 0h24v24H0V0z\" fill=\"none\"/>\n",
              "    <path d=\"M18.56 5.44l.94 2.06.94-2.06 2.06-.94-2.06-.94-.94-2.06-.94 2.06-2.06.94zm-11 1L8.5 8.5l.94-2.06 2.06-.94-2.06-.94L8.5 2.5l-.94 2.06-2.06.94zm10 10l.94 2.06.94-2.06 2.06-.94-2.06-.94-.94-2.06-.94 2.06-2.06.94z\"/><path d=\"M17.41 7.96l-1.37-1.37c-.4-.4-.92-.59-1.43-.59-.52 0-1.04.2-1.43.59L10.3 9.45l-7.72 7.72c-.78.78-.78 2.05 0 2.83L4 21.41c.39.39.9.59 1.41.59.51 0 1.02-.2 1.41-.59l7.78-7.78 2.81-2.81c.8-.78.8-2.07 0-2.86zM5.41 20L4 18.59l7.72-7.72 1.47 1.35L5.41 20z\"/>\n",
              "  </svg>\n",
              "      </button>\n",
              "      \n",
              "  <style>\n",
              "    .colab-df-container {\n",
              "      display:flex;\n",
              "      flex-wrap:wrap;\n",
              "      gap: 12px;\n",
              "    }\n",
              "\n",
              "    .colab-df-convert {\n",
              "      background-color: #E8F0FE;\n",
              "      border: none;\n",
              "      border-radius: 50%;\n",
              "      cursor: pointer;\n",
              "      display: none;\n",
              "      fill: #1967D2;\n",
              "      height: 32px;\n",
              "      padding: 0 0 0 0;\n",
              "      width: 32px;\n",
              "    }\n",
              "\n",
              "    .colab-df-convert:hover {\n",
              "      background-color: #E2EBFA;\n",
              "      box-shadow: 0px 1px 2px rgba(60, 64, 67, 0.3), 0px 1px 3px 1px rgba(60, 64, 67, 0.15);\n",
              "      fill: #174EA6;\n",
              "    }\n",
              "\n",
              "    [theme=dark] .colab-df-convert {\n",
              "      background-color: #3B4455;\n",
              "      fill: #D2E3FC;\n",
              "    }\n",
              "\n",
              "    [theme=dark] .colab-df-convert:hover {\n",
              "      background-color: #434B5C;\n",
              "      box-shadow: 0px 1px 3px 1px rgba(0, 0, 0, 0.15);\n",
              "      filter: drop-shadow(0px 1px 2px rgba(0, 0, 0, 0.3));\n",
              "      fill: #FFFFFF;\n",
              "    }\n",
              "  </style>\n",
              "\n",
              "      <script>\n",
              "        const buttonEl =\n",
              "          document.querySelector('#df-fea2bcfd-8300-483c-a1a4-15b377edc9aa button.colab-df-convert');\n",
              "        buttonEl.style.display =\n",
              "          google.colab.kernel.accessAllowed ? 'block' : 'none';\n",
              "\n",
              "        async function convertToInteractive(key) {\n",
              "          const element = document.querySelector('#df-fea2bcfd-8300-483c-a1a4-15b377edc9aa');\n",
              "          const dataTable =\n",
              "            await google.colab.kernel.invokeFunction('convertToInteractive',\n",
              "                                                     [key], {});\n",
              "          if (!dataTable) return;\n",
              "\n",
              "          const docLinkHtml = 'Like what you see? Visit the ' +\n",
              "            '<a target=\"_blank\" href=https://colab.research.google.com/notebooks/data_table.ipynb>data table notebook</a>'\n",
              "            + ' to learn more about interactive tables.';\n",
              "          element.innerHTML = '';\n",
              "          dataTable['output_type'] = 'display_data';\n",
              "          await google.colab.output.renderOutput(dataTable, element);\n",
              "          const docLink = document.createElement('div');\n",
              "          docLink.innerHTML = docLinkHtml;\n",
              "          element.appendChild(docLink);\n",
              "        }\n",
              "      </script>\n",
              "    </div>\n",
              "  </div>\n",
              "  "
            ]
          },
          "metadata": {},
          "execution_count": 137
        }
      ],
      "source": [
        "data_HELM_ENC.head(100)"
      ]
    },
    {
      "cell_type": "markdown",
      "metadata": {
        "id": "OEd0v4J6YTr7"
      },
      "source": [
        "## Нормализация числовых признаков"
      ]
    },
    {
      "cell_type": "code",
      "execution_count": 98,
      "metadata": {
        "id": "ePUOHrA-YTr7"
      },
      "outputs": [],
      "source": [
        "def diagnostic_plots(df, variable):\n",
        "    plt.figure(figsize=(15,6))\n",
        "    plt.subplot(1, 2, 1)\n",
        "    df[variable].hist(bins=30)\n",
        "    plt.subplot(1, 2, 2)\n",
        "    stats.probplot(df[variable], dist=\"norm\", plot=plt)\n",
        "    plt.show()"
      ]
    },
    {
      "cell_type": "code",
      "execution_count": 138,
      "metadata": {
        "colab": {
          "base_uri": "https://localhost:8080/",
          "height": 878
        },
        "id": "ngIoteDEYTr8",
        "outputId": "c2727280-b0bf-4f09-cd85-e3945090a089"
      },
      "outputs": [
        {
          "output_type": "display_data",
          "data": {
            "text/plain": [
              "<Figure size 1080x1080 with 12 Axes>"
            ],
            "image/png": "[encoded data removed]"
          },
          "metadata": {
            "needs_background": "light"
          }
        }
      ],
      "source": [
        "data.hist(figsize=(15,15))\n",
        "plt.show()"
      ]
    },
    {
      "cell_type": "code",
      "execution_count": 103,
      "metadata": {
        "colab": {
          "base_uri": "https://localhost:8080/",
          "height": 404
        },
        "id": "qPPtKJW1YTr8",
        "outputId": "c157bb79-7d09-49af-a857-4bc4520934ba"
      },
      "outputs": [
        {
          "output_type": "display_data",
          "data": {
            "text/plain": [
              "<Figure size 1080x432 with 2 Axes>"
            ],
            "image/png": "[encoded data removed]"
          },
          "metadata": {
            "needs_background": "light"
          }
        }
      ],
      "source": [
        "diagnostic_plots(data, 'wind')"
      ]
    },
    {
      "cell_type": "code",
      "execution_count": 104,
      "metadata": {
        "colab": {
          "base_uri": "https://localhost:8080/",
          "height": 404
        },
        "id": "sVBMXWLUYTr8",
        "outputId": "703e1943-fa17-4af1-dd2e-6d3c36d4303e"
      },
      "outputs": [
        {
          "output_type": "display_data",
          "data": {
            "text/plain": [
              "<Figure size 1080x432 with 2 Axes>"
            ],
            "image/png": "[encoded data removed]"
          },
          "metadata": {
            "needs_background": "light"
          }
        }
      ],
      "source": [
        "#Логарифмическое преобразование\n",
        "data['wind_log'] = np.log(data['wind'])\n",
        "diagnostic_plots(data, 'wind_log')"
      ]
    },
    {
      "cell_type": "code",
      "execution_count": 105,
      "metadata": {
        "colab": {
          "base_uri": "https://localhost:8080/",
          "height": 404
        },
        "id": "y7nC_uPoYTr9",
        "outputId": "b2ea5beb-5880-4138-e64f-0e8fdd12c67f"
      },
      "outputs": [
        {
          "output_type": "display_data",
          "data": {
            "text/plain": [
              "<Figure size 1080x432 with 2 Axes>"
            ],
            "image/png": "[encoded data removed]"
          },
          "metadata": {
            "needs_background": "light"
          }
        }
      ],
      "source": [
        "#Обратное преобразование\n",
        "data['wind_reciprocal'] = 1 / (data['wind']) \n",
        "diagnostic_plots(data, 'wind_reciprocal')"
      ]
    },
    {
      "cell_type": "code",
      "execution_count": 106,
      "metadata": {
        "colab": {
          "base_uri": "https://localhost:8080/",
          "height": 404
        },
        "id": "J_xMAKPnYTr9",
        "outputId": "5bb09bcc-e1f0-490f-8017-072e4419d3b9"
      },
      "outputs": [
        {
          "output_type": "display_data",
          "data": {
            "text/plain": [
              "<Figure size 1080x432 with 2 Axes>"
            ],
            "image/png": "[encoded data removed]"
          },
          "metadata": {
            "needs_background": "light"
          }
        }
      ],
      "source": [
        "#Квадратный корень\n",
        "data['wind_sqr'] = data['wind']**(1/2) \n",
        "diagnostic_plots(data, 'wind_sqr')"
      ]
    },
    {
      "cell_type": "code",
      "execution_count": 107,
      "metadata": {
        "colab": {
          "base_uri": "https://localhost:8080/",
          "height": 404
        },
        "id": "I4MJLMXoYTr9",
        "outputId": "a2a10434-df91-4f55-f981-69c850d24486"
      },
      "outputs": [
        {
          "output_type": "display_data",
          "data": {
            "text/plain": [
              "<Figure size 1080x432 with 2 Axes>"
            ],
            "image/png": "[encoded data removed]"
          },
          "metadata": {
            "needs_background": "light"
          }
        }
      ],
      "source": [
        "#Возведение в степень\n",
        "data['wind_exp1'] = data['wind']**(1/1.5)\n",
        "diagnostic_plots(data, 'wind_exp1')"
      ]
    },
    {
      "cell_type": "code",
      "execution_count": 109,
      "metadata": {
        "colab": {
          "base_uri": "https://localhost:8080/",
          "height": 404
        },
        "id": "mbbSJSL5YTr9",
        "outputId": "97eedf12-9ea7-4730-fcb5-1461e7fdb7a5"
      },
      "outputs": [
        {
          "output_type": "display_data",
          "data": {
            "text/plain": [
              "<Figure size 1080x432 with 2 Axes>"
            ],
            "image/png": "[encoded data removed]"
          },
          "metadata": {
            "needs_background": "light"
          }
        }
      ],
      "source": [
        "data['wind_exp2'] = data['wind']**(2)\n",
        "diagnostic_plots(data, 'wind_exp2')"
      ]
    },
    {
      "cell_type": "code",
      "execution_count": 110,
      "metadata": {
        "colab": {
          "base_uri": "https://localhost:8080/",
          "height": 404
        },
        "id": "FZDrqIWgYTr-",
        "outputId": "8e6b8776-1fee-4176-b73b-4537d26053cf"
      },
      "outputs": [
        {
          "output_type": "display_data",
          "data": {
            "text/plain": [
              "<Figure size 1080x432 with 2 Axes>"
            ],
            "image/png": "[encoded data removed]"
          },
          "metadata": {
            "needs_background": "light"
          }
        }
      ],
      "source": [
        "data['wind_exp3'] = data['wind']**(0.333)\n",
        "diagnostic_plots(data, 'wind_exp3')"
      ]
    },
    {
      "cell_type": "code",
      "execution_count": 111,
      "metadata": {
        "colab": {
          "base_uri": "https://localhost:8080/",
          "height": 421
        },
        "id": "8fEy82flYTr-",
        "outputId": "1579c68d-a251-4308-ebc9-63df5dde8ff1"
      },
      "outputs": [
        {
          "output_type": "stream",
          "name": "stdout",
          "text": [
            "Оптимальное значение λ = 0.2919088037899124\n"
          ]
        },
        {
          "output_type": "display_data",
          "data": {
            "text/plain": [
              "<Figure size 1080x432 with 2 Axes>"
            ],
            "image/png": "[encoded data removed]"
          },
          "metadata": {
            "needs_background": "light"
          }
        }
      ],
      "source": [
        "#Преобразованиея Бокса-Кокса\n",
        "data['wind_boxcox'], param = stats.boxcox(data['wind']) \n",
        "print('Оптимальное значение λ = {}'.format(param))\n",
        "diagnostic_plots(data, 'wind_boxcox')"
      ]
    },
    {
      "cell_type": "code",
      "execution_count": null,
      "metadata": {
        "id": "2gfTBbJQYTr-"
      },
      "outputs": [],
      "source": [
        ""
      ]
    }
  ],
  "metadata": {
    "kernelspec": {
      "display_name": "Python 3",
      "language": "python",
      "name": "python3"
    },
    "language_info": {
      "codemirror_mode": {
        "name": "ipython",
        "version": 3
      },
      "file_extension": ".py",
      "mimetype": "text/x-python",
      "name": "python",
      "nbconvert_exporter": "python",
      "pygments_lexer": "ipython3",
      "version": "3.6.4"
    },
    "colab": {
      "name": "ЛР2 - Широков П.Ю. - ИУ5-21М.ipynb",
      "provenance": [],
      "collapsed_sections": []
    }
  },
  "nbformat": 4,
  "nbformat_minor": 0
}