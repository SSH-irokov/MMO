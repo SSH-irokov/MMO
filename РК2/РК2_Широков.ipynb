{
  "cells": [
    {
      "cell_type": "markdown",
      "metadata": {
        "id": "f-1id2vR-izk"
      },
      "source": [
        "# Рубежный контроль №2\n",
        "\n",
        "## Широков Павел ИУ5-21М\n",
        "## Тема: Методы обработки текстов\n",
        "## Решение задачи классификации текстов.\n",
        "\n",
        "### Классификатор 1: LogisticRegression\n",
        "### Классификатор 2: Multinomial Naive Bayes (CNB)\n",
        "\n",
        "- Для каждого метода необходимо оценить качество классификации\n",
        "- Сделать вывод о том, какой вариант векторизации признаков в паре с каким классификатором показал лучшее качество."
      ]
    },
    {
      "cell_type": "code",
      "source": [
        ""
      ],
      "metadata": {
        "id": "ckhui4PLSdGP"
      },
      "execution_count": 10,
      "outputs": []
    },
    {
      "cell_type": "code",
      "execution_count": 11,
      "metadata": {
        "id": "e0ljTHHCBcqT"
      },
      "outputs": [],
      "source": [
        "import pandas as pd\n",
        "import numpy as np\n",
        "import matplotlib.pyplot as plt\n",
        "import seaborn as sns\n",
        "\n",
        "import numpy as np\n",
        "import pandas as pd\n",
        "from typing import Dict, Tuple\n",
        "from sklearn.feature_extraction.text import CountVectorizer, TfidfVectorizer\n",
        "from sklearn.model_selection import GridSearchCV, RandomizedSearchCV\n",
        "from sklearn.metrics import accuracy_score, balanced_accuracy_score\n",
        "from sklearn.metrics import precision_score, recall_score, f1_score, classification_report\n",
        "from sklearn.metrics import confusion_matrix\n",
        "from sklearn.model_selection import cross_val_score\n",
        "from sklearn.pipeline import Pipeline\n",
        "from sklearn.metrics import mean_absolute_error, mean_squared_error, mean_squared_log_error, median_absolute_error, r2_score \n",
        "from sklearn.metrics import roc_curve, roc_auc_score\n",
        "from sklearn.naive_bayes import MultinomialNB\n",
        "from sklearn.linear_model import LogisticRegression\n",
        "import seaborn as sns\n",
        "from collections import Counter\n",
        "from sklearn.datasets import fetch_20newsgroups\n",
        "import matplotlib.pyplot as plt\n",
        "from sklearn.svm import SVC, NuSVC, OneClassSVM, SVR, NuSVR, LinearSVR\n",
        "\n",
        "%matplotlib inline \n",
        "sns.set(style=\"ticks\")\n",
        "\n",
        "# !pip install category_encoders"
      ]
    },
    {
      "cell_type": "code",
      "execution_count": 12,
      "metadata": {
        "id": "gIYiWd9_-jAJ"
      },
      "outputs": [],
      "source": [
        "categories = [\"talk.politics.guns\", \"alt.atheism\", \"sci.med\", \"rec.autos\"]\n",
        "newsgroups = fetch_20newsgroups(subset='train', categories=categories)\n",
        "data = newsgroups['data']"
      ]
    },
    {
      "cell_type": "markdown",
      "metadata": {
        "id": "RAWtw3D-Ja0p"
      },
      "source": [
        "## Анализируем датасет и готовим категориальный признак"
      ]
    },
    {
      "cell_type": "code",
      "execution_count": 13,
      "metadata": {
        "id": "g8-yQbdBBMZS"
      },
      "outputs": [],
      "source": [
        "def accuracy_score_for_classes(\n",
        "    y_true: np.ndarray, \n",
        "    y_pred: np.ndarray) -> Dict[int, float]:\n",
        "    \"\"\"\n",
        "    Вычисление метрики accuracy для каждого класса\n",
        "    y_true - истинные значения классов\n",
        "    y_pred - предсказанные значения классов\n",
        "    Возвращает словарь: ключ - метка класса, \n",
        "    значение - Accuracy для данного класса\n",
        "    \"\"\"\n",
        "    # Для удобства фильтрации сформируем Pandas DataFrame \n",
        "    d = {'t': y_true, 'p': y_pred}\n",
        "    df = pd.DataFrame(data=d)\n",
        "    # Метки классов\n",
        "    classes = np.unique(y_true)\n",
        "    # Результирующий словарь\n",
        "    res = dict()\n",
        "    # Перебор меток классов\n",
        "    for c in classes:\n",
        "        # отфильтруем данные, которые соответствуют \n",
        "        # текущей метке класса в истинных значениях\n",
        "        temp_data_flt = df[df['t']==c]\n",
        "        # расчет accuracy для заданной метки класса\n",
        "        temp_acc = accuracy_score(\n",
        "            temp_data_flt['t'].values, \n",
        "            temp_data_flt['p'].values)\n",
        "        # сохранение результата в словарь\n",
        "        res[c] = temp_acc\n",
        "    return res\n",
        "\n",
        "def print_accuracy_score_for_classes(\n",
        "    y_true: np.ndarray, \n",
        "    y_pred: np.ndarray):\n",
        "    \"\"\"\n",
        "    Вывод метрики accuracy для каждого класса\n",
        "    \"\"\"\n",
        "    accs = accuracy_score_for_classes(y_true, y_pred)\n",
        "    if len(accs)>0:\n",
        "        print('Метка \\t Accuracy')\n",
        "    for i in accs:\n",
        "        print('{} \\t {}'.format(i, accs[i]))"
      ]
    },
    {
      "cell_type": "code",
      "execution_count": 14,
      "metadata": {
        "colab": {
          "base_uri": "https://localhost:8080/",
          "height": 0
        },
        "id": "hUKC_jYqPaNK",
        "outputId": "225d3eaf-378f-4edb-9828-48d5aa4b26d1"
      },
      "outputs": [
        {
          "output_type": "stream",
          "name": "stdout",
          "text": [
            "Количество сформированных признаков - 37176\n"
          ]
        }
      ],
      "source": [
        "\n",
        "vocabVect = CountVectorizer()\n",
        "vocabVect.fit(data)\n",
        "corpusVocab = vocabVect.vocabulary_\n",
        "print('Количество сформированных признаков - {}'.format(len(corpusVocab)))"
      ]
    },
    {
      "cell_type": "code",
      "execution_count": 15,
      "metadata": {
        "colab": {
          "base_uri": "https://localhost:8080/",
          "height": 0
        },
        "id": "mLVpI5Z2PaNN",
        "outputId": "ebd265f9-719a-4388-a035-439dc85e9715"
      },
      "outputs": [
        {
          "output_type": "stream",
          "name": "stdout",
          "text": [
            "thom=33375\n",
            "morgan=23251\n",
            "ucs=34360\n",
            "mun=23527\n",
            "ca=8754\n",
            "thomas=33376\n",
            "clancy=9784\n",
            "subject=32210\n",
            "re=28101\n"
          ]
        }
      ],
      "source": [
        "for i in list(corpusVocab)[1:10]:\n",
        "    print('{}={}'.format(i, corpusVocab[i]))"
      ]
    },
    {
      "cell_type": "code",
      "execution_count": 16,
      "metadata": {
        "colab": {
          "base_uri": "https://localhost:8080/",
          "height": 0
        },
        "id": "h70hGAtOPaNO",
        "outputId": "fb22245e-69d6-44fa-a65f-58596743ae6a"
      },
      "outputs": [
        {
          "output_type": "execute_result",
          "data": {
            "text/plain": [
              "<2214x37176 sparse matrix of type '<class 'numpy.int64'>'\n",
              "\twith 375168 stored elements in Compressed Sparse Row format>"
            ]
          },
          "metadata": {},
          "execution_count": 16
        }
      ],
      "source": [
        "test_features = vocabVect.transform(data)\n",
        "test_features"
      ]
    },
    {
      "cell_type": "code",
      "execution_count": 17,
      "metadata": {
        "id": "cC4XxuviPaNP"
      },
      "outputs": [],
      "source": [
        "def VectorizeAndClassify(vectorizers_list, classifiers_list):\n",
        "    for v in vectorizers_list:\n",
        "        for c in classifiers_list:\n",
        "            pipeline1 = Pipeline([(\"vectorizer\", v), (\"classifier\", c)])\n",
        "            score = cross_val_score(pipeline1, newsgroups['data'], newsgroups['target'], scoring='accuracy', cv=3).mean()\n",
        "            print('Векторизация - {}'.format(v))\n",
        "            print('Модель для классификации - {}'.format(c))\n",
        "            print('Accuracy = {}'.format(score))\n",
        "            print('===========================')"
      ]
    },
    {
      "cell_type": "code",
      "execution_count": 18,
      "metadata": {
        "colab": {
          "base_uri": "https://localhost:8080/",
          "height": 0
        },
        "id": "qX7gkH71PaNQ",
        "outputId": "03f6f25a-66df-4a52-c2f0-d102ff0fdcad"
      },
      "outputs": [
        {
          "output_type": "stream",
          "name": "stderr",
          "text": [
            "/usr/local/lib/python3.7/dist-packages/sklearn/linear_model/_logistic.py:818: ConvergenceWarning: lbfgs failed to converge (status=1):\n",
            "STOP: TOTAL NO. of ITERATIONS REACHED LIMIT.\n",
            "\n",
            "Increase the number of iterations (max_iter) or scale the data as shown in:\n",
            "    https://scikit-learn.org/stable/modules/preprocessing.html\n",
            "Please also refer to the documentation for alternative solver options:\n",
            "    https://scikit-learn.org/stable/modules/linear_model.html#logistic-regression\n",
            "  extra_warning_msg=_LOGISTIC_SOLVER_CONVERGENCE_MSG,\n",
            "/usr/local/lib/python3.7/dist-packages/sklearn/linear_model/_logistic.py:818: ConvergenceWarning: lbfgs failed to converge (status=1):\n",
            "STOP: TOTAL NO. of ITERATIONS REACHED LIMIT.\n",
            "\n",
            "Increase the number of iterations (max_iter) or scale the data as shown in:\n",
            "    https://scikit-learn.org/stable/modules/preprocessing.html\n",
            "Please also refer to the documentation for alternative solver options:\n",
            "    https://scikit-learn.org/stable/modules/linear_model.html#logistic-regression\n",
            "  extra_warning_msg=_LOGISTIC_SOLVER_CONVERGENCE_MSG,\n",
            "/usr/local/lib/python3.7/dist-packages/sklearn/linear_model/_logistic.py:818: ConvergenceWarning: lbfgs failed to converge (status=1):\n",
            "STOP: TOTAL NO. of ITERATIONS REACHED LIMIT.\n",
            "\n",
            "Increase the number of iterations (max_iter) or scale the data as shown in:\n",
            "    https://scikit-learn.org/stable/modules/preprocessing.html\n",
            "Please also refer to the documentation for alternative solver options:\n",
            "    https://scikit-learn.org/stable/modules/linear_model.html#logistic-regression\n",
            "  extra_warning_msg=_LOGISTIC_SOLVER_CONVERGENCE_MSG,\n"
          ]
        },
        {
          "output_type": "stream",
          "name": "stdout",
          "text": [
            "Векторизация - CountVectorizer(vocabulary={'00': 0, '000': 1, '0000': 2, '0000001200': 3,\n",
            "                            '00014': 4, '000152': 5, '000406': 6,\n",
            "                            '0005111312': 7, '0005111312na3em': 8, '000601': 9,\n",
            "                            '000710': 10, '000mi': 11, '000miles': 12,\n",
            "                            '000s': 13, '001': 14, '0010': 15, '001004': 16,\n",
            "                            '001125': 17, '001319': 18, '001642': 19, '002': 20,\n",
            "                            '002142': 21, '002651': 22, '003': 23,\n",
            "                            '003258u19250': 24, '0033': 25, '003522': 26,\n",
            "                            '004': 27, '004021809': 28, '004158': 29, ...})\n",
            "Модель для классификации - LogisticRegression()\n",
            "Accuracy = 0.951219512195122\n",
            "===========================\n",
            "Векторизация - CountVectorizer(vocabulary={'00': 0, '000': 1, '0000': 2, '0000001200': 3,\n",
            "                            '00014': 4, '000152': 5, '000406': 6,\n",
            "                            '0005111312': 7, '0005111312na3em': 8, '000601': 9,\n",
            "                            '000710': 10, '000mi': 11, '000miles': 12,\n",
            "                            '000s': 13, '001': 14, '0010': 15, '001004': 16,\n",
            "                            '001125': 17, '001319': 18, '001642': 19, '002': 20,\n",
            "                            '002142': 21, '002651': 22, '003': 23,\n",
            "                            '003258u19250': 24, '0033': 25, '003522': 26,\n",
            "                            '004': 27, '004021809': 28, '004158': 29, ...})\n",
            "Модель для классификации - MultinomialNB()\n",
            "Accuracy = 0.9864498644986449\n",
            "===========================\n",
            "Векторизация - TfidfVectorizer(vocabulary={'00': 0, '000': 1, '0000': 2, '0000001200': 3,\n",
            "                            '00014': 4, '000152': 5, '000406': 6,\n",
            "                            '0005111312': 7, '0005111312na3em': 8, '000601': 9,\n",
            "                            '000710': 10, '000mi': 11, '000miles': 12,\n",
            "                            '000s': 13, '001': 14, '0010': 15, '001004': 16,\n",
            "                            '001125': 17, '001319': 18, '001642': 19, '002': 20,\n",
            "                            '002142': 21, '002651': 22, '003': 23,\n",
            "                            '003258u19250': 24, '0033': 25, '003522': 26,\n",
            "                            '004': 27, '004021809': 28, '004158': 29, ...})\n",
            "Модель для классификации - LogisticRegression()\n",
            "Accuracy = 0.971093044263776\n",
            "===========================\n",
            "Векторизация - TfidfVectorizer(vocabulary={'00': 0, '000': 1, '0000': 2, '0000001200': 3,\n",
            "                            '00014': 4, '000152': 5, '000406': 6,\n",
            "                            '0005111312': 7, '0005111312na3em': 8, '000601': 9,\n",
            "                            '000710': 10, '000mi': 11, '000miles': 12,\n",
            "                            '000s': 13, '001': 14, '0010': 15, '001004': 16,\n",
            "                            '001125': 17, '001319': 18, '001642': 19, '002': 20,\n",
            "                            '002142': 21, '002651': 22, '003': 23,\n",
            "                            '003258u19250': 24, '0033': 25, '003522': 26,\n",
            "                            '004': 27, '004021809': 28, '004158': 29, ...})\n",
            "Модель для классификации - MultinomialNB()\n",
            "Accuracy = 0.9774164408310749\n",
            "===========================\n"
          ]
        }
      ],
      "source": [
        "\n",
        "vectorizers_list = [CountVectorizer(vocabulary = corpusVocab), TfidfVectorizer(vocabulary = corpusVocab)]\n",
        "classifiers_list = [LogisticRegression(), MultinomialNB()]\n",
        "VectorizeAndClassify(vectorizers_list, classifiers_list)"
      ]
    },
    {
      "cell_type": "markdown",
      "metadata": {
        "id": "3sBd_kZLPaNR"
      },
      "source": [
        "# Лучшая точность была у CountVectorizer c MultinomialNB - 0.986"
      ]
    }
  ],
  "metadata": {
    "colab": {
      "collapsed_sections": [],
      "name": "РК2 Широков.ipynb",
      "provenance": [],
      "toc_visible": true
    },
    "kernelspec": {
      "display_name": "Python 3",
      "language": "python",
      "name": "python3"
    },
    "language_info": {
      "codemirror_mode": {
        "name": "ipython",
        "version": 3
      },
      "file_extension": ".py",
      "mimetype": "text/x-python",
      "name": "python",
      "nbconvert_exporter": "python",
      "pygments_lexer": "ipython3",
      "version": "3.6.5"
    }
  },
  "nbformat": 4,
  "nbformat_minor": 0
}